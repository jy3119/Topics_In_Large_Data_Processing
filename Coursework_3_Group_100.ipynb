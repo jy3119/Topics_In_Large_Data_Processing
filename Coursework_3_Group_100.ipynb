{
 "cells": [
  {
   "cell_type": "markdown",
   "metadata": {},
   "source": [
    "# Coursework 3\n",
    "\n",
    "Problems are set by Dr. Wei Dai, 2022"
   ]
  },
  {
   "cell_type": "markdown",
   "metadata": {},
   "source": [
    "Check the lecture notes for the steps of ADMM and the stopping criteria. "
   ]
  },
  {
   "cell_type": "code",
   "execution_count": 29,
   "metadata": {},
   "outputs": [
    {
     "data": {
      "text/html": [
       "<div><div style = \"float: left;\"><span>4×4 DataFrame</span></div><div style = \"clear: both;\"></div></div><div class = \"data-frame\" style = \"overflow-x: scroll;\"><table class = \"data-frame\" style = \"margin-bottom: 6px;\"><thead><tr class = \"header\"><th class = \"rowNumber\" style = \"font-weight: bold; text-align: right;\">Row</th><th style = \"text-align: left;\">A</th><th style = \"text-align: left;\">B</th><th style = \"text-align: left;\">C</th><th style = \"text-align: left;\">D</th></tr><tr class = \"subheader headerLastRow\"><th class = \"rowNumber\" style = \"font-weight: bold; text-align: right;\"></th><th title = \"Int64\" style = \"text-align: left;\">Int64</th><th title = \"Int64\" style = \"text-align: left;\">Int64</th><th title = \"Int64\" style = \"text-align: left;\">Int64</th><th title = \"Int64\" style = \"text-align: left;\">Int64</th></tr></thead><tbody><tr><td class = \"rowNumber\" style = \"font-weight: bold; text-align: right;\">1</td><td style = \"text-align: right;\">1700345</td><td style = \"text-align: right;\">1518690</td><td style = \"text-align: right;\">2243990</td><td style = \"text-align: right;\">1708685</td></tr><tr><td class = \"rowNumber\" style = \"font-weight: bold; text-align: right;\">2</td><td style = \"text-align: right;\">1</td><td style = \"text-align: right;\">1</td><td style = \"text-align: right;\">1</td><td style = \"text-align: right;\">1</td></tr><tr><td class = \"rowNumber\" style = \"font-weight: bold; text-align: right;\">3</td><td style = \"text-align: right;\">1</td><td style = \"text-align: right;\">1</td><td style = \"text-align: right;\">1</td><td style = \"text-align: right;\">1</td></tr><tr><td class = \"rowNumber\" style = \"font-weight: bold; text-align: right;\">4</td><td style = \"text-align: right;\">1</td><td style = \"text-align: right;\">1</td><td style = \"text-align: right;\">1</td><td style = \"text-align: right;\">1</td></tr></tbody></table></div>"
      ],
      "text/latex": [
       "\\begin{tabular}{r|cccc}\n",
       "\t& A & B & C & D\\\\\n",
       "\t\\hline\n",
       "\t& Int64 & Int64 & Int64 & Int64\\\\\n",
       "\t\\hline\n",
       "\t1 & 1700345 & 1518690 & 2243990 & 1708685 \\\\\n",
       "\t2 & 1 & 1 & 1 & 1 \\\\\n",
       "\t3 & 1 & 1 & 1 & 1 \\\\\n",
       "\t4 & 1 & 1 & 1 & 1 \\\\\n",
       "\\end{tabular}\n"
      ],
      "text/plain": [
       "\u001b[1m4×4 DataFrame\u001b[0m\n",
       "\u001b[1m Row \u001b[0m│\u001b[1m A       \u001b[0m\u001b[1m B       \u001b[0m\u001b[1m C       \u001b[0m\u001b[1m D       \u001b[0m\n",
       "     │\u001b[90m Int64   \u001b[0m\u001b[90m Int64   \u001b[0m\u001b[90m Int64   \u001b[0m\u001b[90m Int64   \u001b[0m\n",
       "─────┼────────────────────────────────────\n",
       "   1 │ 1700345  1518690  2243990  1708685\n",
       "   2 │       1        1        1        1\n",
       "   3 │       1        1        1        1\n",
       "   4 │       1        1        1        1"
      ]
     },
     "metadata": {},
     "output_type": "display_data"
    }
   ],
   "source": [
    "using DataFrames, FFTW, Wavelets, Images, LinearAlgebra, Random, StatsBase\n",
    "\n",
    "# Make sure that you complete the involvement table. \n",
    "# The first row is for CID number. \n",
    "# Other rows are for the involvement for each \"big\" problem (8 big problems in coursework 1). \n",
    "# \"1\" for getting involved in this part. \n",
    "# \"0\" for not involved\n",
    "Contributions = DataFrame( A=[01700345,1,1,1], B = [01518690,1,1,1], C = [02243990,1,1,1], D = [01708685,1,1,1] )"
   ]
  },
  {
   "cell_type": "markdown",
   "metadata": {},
   "source": [
    "## 1. Netflix Problem (40%)\n",
    "\n",
    "The $\\texttt{ratings.csv}$ is MovieLens data downloaded from [GroupLens](grouplens.org)."
   ]
  },
  {
   "cell_type": "markdown",
   "metadata": {},
   "source": [
    "### 1.1 Prepare the data (6%)\n",
    "\n",
    "1. Use the package $\\texttt{xlsx.jl}$ or $\\texttt{csv.jl}$ to read $\\texttt{ratings.csv}$. Using the existing movie rating data to form a matrix $\\bm{X}_0$, where the rows correspond to users and the columns correspond to movies. Note that for our purposes, we delete all the movies that have less than 15 ratings.$\\newline$ Show the size of your matrix $\\bm{X}_0$. Denote its size by $M \\times N$.        \n",
    "\n",
    "2. Based on your obtained $\\bm{X}_0$, define \n",
    "        $$\\begin{align*}\n",
    "            \\Delta & := \\left\\{(m,n):~ \\text{a rating exists for the $m$-th user and $n$-th movie}  \\right\\}. \n",
    "        \\end{align*}$$\n",
    "        In Julia, we use $\\texttt{Delta = Array{Int64,2}(undef,0,2)}$ to initialize $\\Delta$. $\\newline$ Find $\\Delta$ ($\\texttt{Delta}$ in Julia). Show the size of $\\texttt{Delta}$. \n",
    "        \n",
    "3. Use $\\texttt{Random.seed!(1234)}$ to initialize the seed for random number generator. Use $\\texttt{StatsBase.sample}$ to sample (without replacement) 80\\% of the entries in $\\texttt{Delta}$ to form $\\texttt{Omega}$ ($\\Omega$). (Use $\\texttt{ceil}$ function to calculate the size of $\\Omega$.)\n",
    "$\\newline$\n",
    "Write a function $\\texttt{pOmega}$ to obtain $\\bm{y} = \\mathcal{P}_{\\Omega}(\\bm{X}_0)$. \n",
    "$\\newline$\n",
    "The vector $\\bm{y}$ contains our training data. The vector $\\bm{y}_e = \\mathcal{P}_{\\Delta \\backslash \\Omega}(\\bm{X}_0)$ gives the test data for performance evaluation. \n",
    "$\\newline$\n",
    "Find both $\\bm{y}$ and $\\bm{y}_e$. \n"
   ]
  },
  {
   "cell_type": "code",
   "execution_count": null,
   "metadata": {},
   "outputs": [],
   "source": [
    "######1.1.1########\n",
    "using CSV, DataFrames\n",
    "cs = CSV.read(\"ratings.csv\", DataFrame)\n",
    "X0 = zeros(610,193609);\n",
    "for i in 1:100836\n",
    "    X0[cs[i,1],cs[i,2]] = cs[i,3]\n",
    "end\n",
    "count = 0;\n",
    "arr = [];\n",
    "for i in 1:193609\n",
    "    for j in 1:610\n",
    "        if X0[j,i] != 0\n",
    "            count = count + 1;\n",
    "        end\n",
    "    end\n",
    "    if count>=15\n",
    "        push!(arr,i);\n",
    "    end\n",
    "    count = 0;\n",
    "end\n",
    "Y = Array{Int64,2}(undef,610,0);\n",
    "old=0;\n",
    "for q in arr\n",
    "    Y = [Y X0[:,q]]\n",
    "end\n",
    "X0 = copy(Y);\n"
   ]
  },
  {
   "cell_type": "code",
   "execution_count": null,
   "metadata": {},
   "outputs": [],
   "source": [
    "######1.1.2######\n",
    "(M,N) = size(X0)\n",
    "Delta = Array{Int64,2}(undef,0,2);\n",
    "    for i in 1:M\n",
    "        for j in 1:N\n",
    "            if X0[i,j] != 0\n",
    "                d = [i j;]\n",
    "                Delta = [Delta;d]\n",
    "            end\n",
    "        end\n",
    "    end"
   ]
  },
  {
   "cell_type": "code",
   "execution_count": null,
   "metadata": {},
   "outputs": [],
   "source": [
    "######1.1.3#######\n",
    "using LinearAlgebra\n",
    "using BenchmarkTools\n",
    "using Base\n",
    "using Random\n",
    "using Pkg\n",
    "Pkg.add(\"StatsBase\")\n",
    "using StatsBase\n",
    "Random.seed!(1234)\n",
    "size_Omega = ceil(Int, 0.8*length(Delta[:,1]));\n",
    "Omega = sample(1:length(Delta[:,1]),size_Omega;replace=false);\n",
    "Omega = sort(Omega); \n",
    "function pOmega(X0,Delta,Omega)\n",
    "    y = [];\n",
    "    for i in Omega\n",
    "        y = [y;X0[Delta[i,1],Delta[i,2]]]\n",
    "    end\n",
    "    return y;\n",
    "end\n",
    "y = pOmega(X0,Delta,Omega);\n",
    "j = 1;\n",
    "del = [];\n",
    "for i in 1:length(Delta[:,1])\n",
    "    if Omega[j] == i\n",
    "        j = j + 1;\n",
    "        continue\n",
    "    end\n",
    "    push!(del,i);\n",
    "end\n",
    "ye = pOmega(X0,Delta,del);"
   ]
  },
  {
   "cell_type": "markdown",
   "metadata": {},
   "source": [
    "### 1.2 Employ alternating optimization algorithm (10%)\n",
    "\n",
    "In this part, we are solving $$\\begin{align*}\n",
    "        & \\min_{\\bm{X}}~ \\delta\\left( \\text{rank}(\\bm{X}) \\le 10 \\right)\n",
    "        + \\frac{1}{2} \\lVert \\bm{y} - \\mathcal{P}_{\\Omega}(\\bm{X}) \\rVert_2^2\n",
    "    \\end{align*}$$\n",
    "using alternating minimization. More specifically, let $\\bm{L} \\in \\mathbb{R}^{M \\times 10}$ and $\\bm{R} \\in \\mathbb{R}^{N \\times 10}$. We solve \n",
    "$$\\begin{align*}\n",
    "    & \\min_{\\bm{L},\\bm{R}}~ \\lVert \\bm{y} - \\mathcal{P}_{\\Omega}(\\bm{L} \\bm{R}^{\\mathsf{T}}) \\rVert_2^2\n",
    "\\end{align*}$$\n",
    "in an alternating way.\n",
    "\n",
    "1. Implement the alternating minimization algorithm. Test it with randomly initialized $\\bm{L}$ and $\\bm{R}$ using $\\texttt{randn(Float64,M,10)}$ and $\\texttt{randn(Float64,N,10)}$ respectively. Denote the output of your alternating minimization algorithm $\\hat{\\bm{X}}$. \n",
    "\n",
    "2. Find the training performance $\\lVert \\mathcal{P}_{\\Omega} (\\hat{\\bm{X}} - \\bm{X}_0)\\rVert_2^2 / |\\Omega|$ and the prediction performance $\\lVert \\mathcal{P}_{\\Delta \\backslash \\Omega} (\\hat{\\bm{X}} - \\bm{X}_0)\\rVert_2^2 / |\\Delta \\backslash \\Omega|$. "
   ]
  },
  {
   "cell_type": "code",
   "execution_count": null,
   "metadata": {},
   "outputs": [],
   "source": [
    "#####1.2.1#####\n",
    "(M,N) = size(X0);\n",
    "P = randn(M,10);\n",
    "Q = randn(N,10);\n",
    "for k in 1:3\n",
    "    for j in 1:N\n",
    "        oj = [];\n",
    "        for p in 1:M\n",
    "            if X0[p,j] != 0\n",
    "                oj = [oj;p];\n",
    "            end\n",
    "        end\n",
    "        Q[j,:] = pinv(ones(1,10)*transpose(P[oj,:])*P[oj,:])*ones(1,10)*transpose(P[oj,:])*X0[oj,j];\n",
    "    end\n",
    "    for i in 1:M\n",
    "        oi = [];\n",
    "        for q in 1:N\n",
    "            if X0[i,q] != 0\n",
    "                oi = [oi;q];\n",
    "            end\n",
    "        end\n",
    "        P[i,:] = pinv(Q[oi,:]*ones(10,1))*Q[oi,:]*ones(10,1)*reshape(X0[i,oi],1,length(X0[i,oi]))*pinv(transpose(Q[oi,:]));\n",
    "    end\n",
    "end\n",
    "X_hat = P*Q';\n",
    "@show (norm(X_hat-X0))"
   ]
  },
  {
   "cell_type": "code",
   "execution_count": null,
   "metadata": {},
   "outputs": [],
   "source": [
    "#####1.2.2######\n",
    "performance_tra = norm(pOmega(X_hat,Delta,Omega))/sqrt(norm(Omega));\n",
    "performance_per = norm(pOmega(X_hat,Delta,del))/sqrt(norm(del));\n",
    "println(performance_tra)\n",
    "println(performance_per)"
   ]
  },
  {
   "cell_type": "markdown",
   "metadata": {},
   "source": [
    "### 1.3 Employ proximal gradient method (10%)\n",
    "\n",
    "In this part, we are solving $$\\begin{align*}\n",
    "        & \\min_{\\bm{X}}~ \\lambda \\lVert \\bm{X} \\rVert_*\n",
    "        + \\frac{1}{2} \\lVert \\bm{y} - \\mathcal{P}_{\\Omega}(\\bm{X}) \\rVert_2^2\n",
    "    \\end{align*}$$\n",
    "    where $\\lambda>0$ is chosen so that your result $\\hat{\\bm{X}}$ has a rank close to 10 (all the singular values except the first 10 ones are close to 10). More specifically, use the proximal gradient method to solve the above convex optimization problem. \n",
    "\n",
    "1. Give the closed form of the gradient of the term $\\frac{1}{2} \\lVert \\bm{y} - \\mathcal{P}_{\\Omega}(\\bm{X}) \\rVert_2^2$ in terms of $\\mathcal{P}_{\\Omega}$ and $\\bm{X}$.\n",
    "        \n",
    "2. Implement the proximal gradient method. \n",
    "        \n",
    "3. Find an appropriate value for $\\lambda >0$. Test the training performance and the prediction performance."
   ]
  },
  {
   "cell_type": "markdown",
   "metadata": {},
   "source": [
    "1.\n",
    "$\\nabla \\frac{1}{2} \\left| \\left| y-P_{\\Omega }\\left( X\\right)  \\right|  \\right|^{2}_{2} $ \n",
    "\n",
    "$=-P^{\\ast }_{\\Omega }\\left( y-P_{\\Omega }(X)\\right)  $\n",
    "\n",
    "$=-P^{\\ast }_{\\Omega }(y)+P^{\\ast }_{\\Omega }\\left( P_{\\Omega }\\left( X\\right)  \\right)  $\n",
    "\n"
   ]
  },
  {
   "cell_type": "code",
   "execution_count": null,
   "metadata": {},
   "outputs": [],
   "source": [
    "#######1.3.2#######\n",
    "function invpOmega(x,Delta,Omega,M,N)\n",
    "    X1 = zeros(M,N)\n",
    "    r = 1;\n",
    "    for i in Omega\n",
    "        X1[Delta[i,1],Delta[i,2]] = x[r]\n",
    "        r = r + 1\n",
    "    end\n",
    "    return X1;\n",
    "end\n",
    "lamda = 0.2;\n",
    "gama = 1;\n",
    "yita = 0.5;\n",
    "oldx = randn(M,N);\n",
    "z = 0;\n",
    "qian = 100;\n",
    "X_s = zeros(M,N);\n",
    "#while qian+lamda*norm(W0,1)>0.1\n",
    "for jj in 1:5\n",
    "    newgama = gama;\n",
    "    while true\n",
    "        z = oldx + yita*invpOmega((y - pOmega(oldx,Delta,Omega)),Delta,Omega,M,N)\n",
    "        sigma, u, v = svd(z);\n",
    "        X_s = zeros(M,N);\n",
    "        for i in 1:min(M,N)\n",
    "            sigma_i = sigma[:,i];\n",
    "            s_i = copy(sigma_i);\n",
    "            ui = u[i];\n",
    "            vi = v[:,i];\n",
    "            for j in 1:length(sigma_i)\n",
    "                s_i[j] = max(0,sigma_i[j]-lamda*gama);\n",
    "            end\n",
    "            X_s = X_s + s_i*ui*vi';\n",
    "        end\n",
    "        qian = 0.5*sum((y - pOmega(X_s,Delta,Omega)).^2);\n",
    "        hou = 0.5*sum((y - pOmega(oldx,Delta,Omega)).^2)+vec(X_s-oldx)'*vec(z)+1/newgama*0.5*sum((vec(X_s-oldx)).^2);\n",
    "        println(hou);\n",
    "        if abs(qian)<=abs(hou)\n",
    "           break;\n",
    "        end\n",
    "        # # #######find a valid step size#######\n",
    "        # newgama = yita*newgama;\n",
    "    end\n",
    "    gama = newgama;\n",
    "    oldx = X_s;\n",
    "end "
   ]
  },
  {
   "cell_type": "code",
   "execution_count": null,
   "metadata": {},
   "outputs": [],
   "source": [
    "performance_tra = norm(pOmega(X_s,Delta,Omega))/sqrt(norm(Omega));\n",
    "performance_per = norm(pOmega(X_s,Delta,del))/sqrt(norm(del));\n",
    "println(performance_tra)\n",
    "println(performance_per)"
   ]
  },
  {
   "cell_type": "markdown",
   "metadata": {},
   "source": [
    "### 1.4 Employ ADMM (14%)\n",
    "\n",
    "A more practical approach is to solve the following constrained optimization problem \n",
    "    $$\\begin{align*}\n",
    "        \\min_{\\bm{X}}~\n",
    "        & \\lambda \\lVert \\bm{X} \\rVert_*\n",
    "        + \\frac{1}{2} \\lVert \\bm{y} - \\mathcal{P}_{\\Omega}(\\bm{X}) \\rVert_2^2 \\\\\n",
    "        \\text{s.t.}~\n",
    "        & 0 \\le X_{m,n} \\le 5,~ \\forall~1 \\le m \\le M,~ 1 \\le n \\le N. \n",
    "    \\end{align*}$$\n",
    "We simplify the notation by writing $0 \\le \\bm{X} \\le 5$ for the constraint.\n",
    "\n",
    "We use ADMM to solve the constrained optimization problem. An ADMM Lagrangian is given by \n",
    "$$\\begin{align*}\n",
    "    \\min_{\\bm{X},\\bm{Z}}~ \n",
    "    & \\frac{1}{2} \\lVert \\bm{y} - \\mathcal{P}_{\\Omega}(\\bm{X}) \\rVert_2^2 \n",
    "    + \\lambda \\lVert \\bm{Z}_1 \\rVert_*\n",
    "    + \\delta \\left( 0 \\le \\bm{Z}_2 \\le 5 \\right) \\\\\n",
    "    & + \\left\\langle \\bm{\\Lambda}_1,\\bm{X}-\\bm{Z}_1 \\right\\rangle\n",
    "    + \\left\\langle \\bm{\\Lambda}_2,\\bm{X}-\\bm{Z}_2 \\right\\rangle \\\\\n",
    "    & + \\frac{\\rho}{2} \\lVert \\bm{X}-\\bm{Z}_1 \\rVert_F^2 \n",
    "    + \\frac{\\rho}{2} \\lVert \\bm{X}-\\bm{Z}_2 \\rVert_F^2. \n",
    "\\end{align*}$$\n",
    "\n",
    "1. Find the closed form for minimization with respect to $\\bm{X}$ for given $\\bm{Z}$ and $\\bm{\\Lambda}$.\n",
    "\n",
    "2. Find the closed form for minimization with respect to $\\bm{Z}$ for given $\\bm{X}$ and $\\bm{\\Lambda}$.         \n",
    "\n",
    "3. Implement the ADMM procedure. \n",
    "\n",
    "4. With properly chosen $\\lambda > 0$, test the training performance and the prediction performance. "
   ]
  },
  {
   "cell_type": "markdown",
   "metadata": {},
   "source": [
    "$B=\\left[ \\begin{matrix}I\\\\ I\\end{matrix} \\right]  $\n",
    "\n",
    "$D=\\left[ \\begin{matrix}-I&\\\\ &-I\\end{matrix} \\right]  $\n",
    "\n",
    "$Z=\\left[ \\begin{matrix}Z_{1}\\\\ Z_{2}\\end{matrix} \\right]  $\n",
    "\n",
    "$\\Lambda =\\left[ \\begin{matrix}\\Lambda_{1} \\\\ \\Lambda_{2} \\end{matrix} \\right]  $\n",
    "\n",
    "$BX+DZ=0$\n",
    "\n",
    "$\\begin{aligned} & X^{k+1}=\\underset{X}{\\operatorname{argmin}} \\frac{1}{2}\\|y-P_{\\Omega }(X)\\|_2^2+\\frac{\\rho}{2}\\left\\|BX^{k}+DZ^{k}+\\frac{\\Lambda^k}{\\rho}\\right\\|_2^2 \\\\ \n",
    "& Z^{k+1}=\\underset{Z_1, Z_2}{\\operatorname{argmin}} \\lambda\\left\\|Z_1\\right\\|_*+\\frac{\\rho}{2}\\left\\|X^{k+1}-Z_1+\\frac{\\Lambda_1^k}{\\rho}\\right\\|_2^2 \\\\\n",
    "& +\\delta\\left(0 \\leq Z_2 \\leq 5\\right)+\\frac{\\rho}{2}\\left\\|X^{k+1}-Z_2+\\frac{\\Lambda_2^k}{\\rho}\\right\\|_2^2 \\\\ \n",
    "& \\Lambda^{k+1}=\\Lambda^{k}+P\\left(B X^{k+1}+D Z^{k+1}\\right) \\end{aligned}$\n",
    "\n",
    "1.4.1\n",
    "\n",
    "$X^{k+1}=\\left( \\Omega^{T} \\Omega +\\rho B^{T}B\\right)^{-1}  \\left( \\Omega^{T} y-\\rho B^{T}DZ-B^{T}\\Lambda^{k} \\right)  $\n",
    "\n",
    "1.4.2\n",
    "\n",
    "$\\begin{aligned} & X^{k+1}+\\frac{\\Lambda_1^k}{\\rho}=\\sum_{i=1}^{\\min (m, n)} \\sigma_i u_i v_i^{\\top} \\\\ & Z_1^{k+1}=\\sum_{i=1}^{\\min (m, n)} \\eta\\left(\\sigma_i ; \\frac{\\lambda}{\\rho}\\right) u_i v_i^{\\top} \\end{aligned}$\n",
    "\n",
    "$Z^{k+1}_{2}=max(min(X^{k+1}+\\frac{\\Lambda^{k}_{2} }{\\rho },0),5) $"
   ]
  },
  {
   "cell_type": "code",
   "execution_count": 59,
   "metadata": {},
   "outputs": [
    {
     "data": {
      "text/plain": [
       "eye (generic function with 1 method)"
      ]
     },
     "metadata": {},
     "output_type": "display_data"
    }
   ],
   "source": [
    "#####1.4.3/4#####\n",
    "function eye(n)\n",
    "    ma = zeros(n,n);\n",
    "    for i in 1:n\n",
    "        ma[i,i] = 1;\n",
    "    end\n",
    "    return ma\n",
    "end"
   ]
  },
  {
   "cell_type": "code",
   "execution_count": null,
   "metadata": {},
   "outputs": [],
   "source": [
    "Delta2 = Array{Int64,2}(undef,0,2);;\n",
    "j = 1;\n",
    "for i in 1:1650\n",
    "    while j <= 73845\n",
    "    if Delta[j,2] == i\n",
    "        #reshape(Delta[j,:],(1,2))\n",
    "        Delta2 = [Delta2;reshape(Delta[j,:],(1,2))]\n",
    "    end\n",
    "    j = j + 1\n",
    "    end\n",
    "    j = 1;\n",
    "end"
   ]
  },
  {
   "cell_type": "code",
   "execution_count": 61,
   "metadata": {},
   "outputs": [
    {
     "data": {
      "text/plain": [
       "XK1 (generic function with 1 method)"
      ]
     },
     "metadata": {},
     "output_type": "display_data"
    }
   ],
   "source": [
    "function XK1(Omega,Delta,z1,z2,v1,v2,B,D,X0)\n",
    "    j = 1;\n",
    "    id = [];\n",
    "    Xk1 = zeros(size(X0))\n",
    "    for i in Omega\n",
    "        if Delta[i,2] == j\n",
    "            push!(id,Delta[i,1]);\n",
    "            continue\n",
    "        end\n",
    "        y = zeros(length(id),0);\n",
    "        x = X0[:,j];\n",
    "        om = zeros(length(id),length(x));\n",
    "        for k in 1:length(id)\n",
    "            om[k,id[k]] = 1;\n",
    "        end\n",
    "        y = om*x;\n",
    "        ########\n",
    "        z = [z1[:,j];z1[:,j]]\n",
    "        v = [v1[:,j];v2[:,j]]\n",
    "        Xk1[:,j] = pinv(om'*om .+ rou.*B'*B)*(om'*y-rou.*B'*D*z-B'*v)\n",
    "        j = j + 1;\n",
    "        id = [];\n",
    "        if Delta[i,2] == j\n",
    "            push!(id,Delta[i,1]);\n",
    "        end\n",
    "    end\n",
    "    return Xk1\n",
    "    end\n",
    "    #@show y"
   ]
  },
  {
   "cell_type": "code",
   "execution_count": null,
   "metadata": {},
   "outputs": [],
   "source": [
    "rou = 1;\n",
    "lamda = 0.1;\n",
    "(M,N) = size(X0);\n",
    "B = [eye(M);eye(M)]\n",
    "D = [-eye(M) zeros(M,M);zeros(M,M) -eye(M)]\n",
    "z1 = ones(M,N)\n",
    "z2 = ones(M,N)\n",
    "v1 = ones(M,N)\n",
    "v2 = ones(M,N)\n",
    "for l in 1:10\n",
    "    Xk1 = XK1(Omega,Delta2,z1,z2,v1,v2,B,D,X0)\n",
    "    sigma, u, v = svd(Xk1+v1./rou);\n",
    "    Z1 = zeros(M,N);\n",
    "    for i in 1:min(M,N)\n",
    "        sigma_i = sigma[:,i];\n",
    "        s_i = copy(sigma_i);\n",
    "        ui = u[i];\n",
    "        vi = v[:,i];\n",
    "        for j in 1:length(sigma_i)\n",
    "            s_i[j] = max(0,sigma_i[j]-1/rou*lamda);\n",
    "        end\n",
    "        Z1 = Z1 + s_i*ui*vi';\n",
    "    end\n",
    "    z1 = Z1;\n",
    "    z2 = min.(max.(Xk1+v1./rou,0),5)\n",
    "    V = [v1;v2] + rou*(B*Xk1+D*[z1;z2])\n",
    "    v1 = V[1:M,1:N]\n",
    "    v2 = V[M+1:2M,1:N]\n",
    "    @show norm(Xk1-X0)\n",
    "end"
   ]
  },
  {
   "cell_type": "markdown",
   "metadata": {},
   "source": [
    "## 2. Video Background and Foreground Separation (20%)\n",
    "\n",
    "In this application, we use the video file $\\texttt{demo.avi}$."
   ]
  },
  {
   "cell_type": "markdown",
   "metadata": {},
   "source": [
    "### 2.1 Data preparation (5%)\n",
    "\n",
    "The goal of this step is to form a matrix where each column is a vectorized version of a frame of the video and the number of columns is the number of the frames in the video. Denote the matrix by $\\bm{Y}$.\n",
    "\n",
    "With help from GTA Mr. Zhengang Guo, we have identified that the function $\\texttt{VideoIO.load}$ can load the video file and that the function $\\texttt{VideoIO.channelview}$ can get frames from the loaded video. \n",
    "\n",
    "Write a function $\\texttt{video2matrix}$ to form the video matrix $\\bm{Y}$ from the video file. \n"
   ]
  },
  {
   "cell_type": "code",
   "execution_count": 68,
   "metadata": {},
   "outputs": [],
   "source": [
    "using VideoIO\n",
    "function video2matrix(video_path)\n",
    "    temp = VideoIO.load(video_path)\n",
    "    N, = size(temp)\n",
    "    Y = Array{Float64}(undef, 2304,51)\n",
    "    for i in 1:N\n",
    "     Y[:,i] = Float64.(vec(VideoIO.channelview(temp[i])[1,:,:]))\n",
    "    end\n",
    "    return Y\n",
    "end\n",
    "Vid = video2matrix(\"demo.avi\");"
   ]
  },
  {
   "cell_type": "markdown",
   "metadata": {},
   "source": [
    "### 2.2 Employ ADMM (15%)\n",
    "\n",
    "The video matrix $\\bm{Y}$ can be modelled as \n",
    "    $$\\begin{align*}\n",
    "        & \\bm{Y} = \\bm{L} + \\bm{S} + \\bm{W},\n",
    "    \\end{align*}$$\n",
    "where $\\bm{L}$ is a low rank matrix to represent the background, $\\bm{S}$ is a sparse matrix (only a few entries are nonzero) that correspond to moving foreground, and $\\bm{W}$ denotes Gaussian noise.\n",
    "\n",
    "We consider the following constrained optimization problem \n",
    "$$\\begin{align*}\n",
    "    \\min_{\\bm{L},\\bm{S}}~ \n",
    "    & \\frac{1}{2} \\lVert \\bm{Y} - \\bm{L} -\\bm{S} \\rVert_F^2\n",
    "    + \\lambda_1 \\lVert \\bm{L} \\rVert_* \n",
    "    + \\lambda_2 \\lVert \\bm{S} \\rVert_1 \\\\\n",
    "    \\text{s.t.}~\n",
    "    & 0 \\le \\bm{L} \\le 255,  \n",
    "\\end{align*}$$\n",
    "where with slight abuse of notation $\\lVert \\bm{S} \\rVert_1 := \\lVert \\text{vect}(\\bm{S}) \\rVert_1$. \n",
    "    An ADMM optimization formulation is given below. \n",
    "$$\\begin{align*}\n",
    "    \\min_{\\bm{L},\\bm{S}, \\bm{Z}}~ \n",
    "    & \\frac{1}{2} \\lVert \\bm{Y} - \\bm{L} -\\bm{S} \\rVert_F^2\n",
    "    + \\lambda_1 \\lVert \\bm{Z}_1 \\rVert_* \n",
    "    + \\delta \\left( 0 \\le \\bm{Z}_2 \\le 255 \\right)\n",
    "    + \\lambda_2 \\lVert \\bm{Z}_3 \\rVert_1 \\\\\n",
    "    \\text{s.t.}~\n",
    "    & \\bm{L} = \\bm{Z}_1,~\n",
    "    \\bm{L} = \\bm{Z}_2,~\n",
    "    \\bm{S} = \\bm{Z}_3. \n",
    "\\end{align*}$$\n",
    "\n",
    "1. Find the closed form for minimization with respect to $(\\bm{L},\\bm{S})$ for given $\\bm{Z}$ and $\\Lambda$. \n",
    "\n",
    "2. Find the closed form for minimization with respect to $\\bm{Z}$ for given $(\\bm{L},\\bm{S})$ and $\\Lambda$. \n",
    "\n",
    "3. Implement the corresponding ADMM procedure. \n",
    "\n",
    "4. Choose reasonable parameters $\\lambda_1$ and $\\lambda_2$ to have nice results. Save the estimated $\\bm{L}$ and $\\bm{S}$ into video files $\\texttt{Background.avi}$ and $\\texttt{Foreground.avi}$ respectively. (Upload these files when you submit your coursework.)"
   ]
  },
  {
   "cell_type": "markdown",
   "metadata": {},
   "source": [
    "$B=\\left[ \\begin{matrix}I\\\\ I\\end{matrix} \\right]  $\n",
    "\n",
    "$D=\\left[ \\begin{matrix}-I&\\\\ &-I\\end{matrix} \\right]  $\n",
    "\n",
    "$Z=\\left[ \\begin{matrix}Z_{1}\\\\ Z_{2}\\end{matrix} \\right]  $\n",
    "\n",
    "$\\Lambda_{12} =\\left[ \\begin{matrix}\\Lambda_{1} \\\\ \\Lambda_{2} \\end{matrix} \\right]  $\n",
    "\n",
    "$BX+DZ=0$\n",
    "\n",
    "$\\begin{aligned} & L^{k+1}=\\underset{L}{\\operatorname{argmin}}\\left(\\frac{1}{2}\\left\\|Y-L-S^k\\right\\|_F^2+\\frac{\\rho}{2}\\left\\|B L+D Z^k+\\frac{\\Lambda_{12}^k}{P}\\right\\|_2^2\\right) \\\\ & S^{k + 1}=\\underset{S}{\\operatorname{argmn}}\\left(\\frac{1}{2}\\left\\|Y-L^{k+1}-S\\right\\|_F^2+\\frac{\\rho}{2}\\left\\|S-Z_3^k +\\frac{\\Lambda_3^k}{\\rho}\\right\\|_2^2\\right) \\\\ \n",
    "& Z_1^{k+1}=\\underset{Z_1}{\\operatorname{argmin}} \\lambda_1\\left\\|Z_1\\right\\|_*+\\frac{\\rho}{2}\\left\\|L^{k+1}-Z_1+\\frac{\\Lambda_1^k}{\\rho}\\right\\|_2^2 \\\\ & Z_2^{k+1}=\\underset{Z_2}{\\operatorname{argmin}} \\delta\\left(0 \\leq Z_2 \\leq 255\\right)+\\frac{p}{2}\\left\\|L^{k+1}-Z_2+\\frac{\\Lambda_2^k}{\\rho}\\right\\|_2^2 \\\\ & \\end{aligned}$\n",
    "$\\begin{aligned} & Z_3^{k+1}=\\underset{Z_3}{\\operatorname{argmin}} \\cdot \\lambda_2\\left\\|Z_3\\right\\|_1+\\frac{\\rho}{2}\\left\\|S^{k+1}-Z_3+\\frac{\\Lambda_3^k}{\\rho}\\right\\|^2 \\\\ & \\Lambda_{12}^{k+1}=\\Lambda_{12}+\\rho\\left(B L^{k+1}+D Z^{k+1}\\right) \\\\ & \\Lambda_3^{k+1}=\\Lambda_3+\\rho\\left(S_{k+1}-Z_3^{k+1}\\right) \\end{aligned}$\n",
    "\n",
    "2.2.1\n",
    "\n",
    "$L^{k+1}=\\left(I +\\rho B^{T}B\\right)^{-1}  \\left(Y-S^k-\\rho B^{T}DZ^k-B^{T}\\Lambda_{12}^{k} \\right)  $\n",
    "\n",
    "$S^{k+1}=\\left( 1+\\rho \\right)^{-1}  \\left( Y-L^{k+1}+\\rho Z_{3}-\\Lambda^{k}_{3} \\right)  $\n",
    "\n",
    "2.2.2\n",
    "\n",
    "$\\begin{aligned} & L^{k+1}+\\frac{\\Lambda_1^k}{\\rho}=\\sum_{i=1}^{\\min (m, n)} \\sigma_i u_i v_i^{\\top} \\\\ & Z_1^{k+1}=\\sum_{i=1}^{\\min (m, n)} \\eta\\left(\\sigma_i ; \\frac{\\lambda_1}{\\rho}\\right) u_i v_i^{\\top} \\end{aligned}$\n",
    "\n",
    "$Z^{k+1}_{2}=min(max(L^{k+1}+\\frac{\\Lambda^{k}_{2} }{\\rho },0),5) $\n",
    "\n",
    "$Z_3^{k+1}=max(S^{k+1}+\\frac{\\Lambda^{k}_{3} }{\\rho },0) $"
   ]
  },
  {
   "cell_type": "code",
   "execution_count": null,
   "metadata": {},
   "outputs": [],
   "source": [
    "####2.2.3/4#####\n",
    "rou = 1;\n",
    "lamda1 = 0.1;\n",
    "lamda2 = 0.1;\n",
    "(M,N) = size(Vid);\n",
    "B = [eye(M);eye(M)]\n",
    "D = [-eye(M) zeros(M,M);zeros(M,M) -eye(M)]\n",
    "L = ones(M,N)\n",
    "S = ones(M,N)\n",
    "z1 = ones(M,N)\n",
    "z2 = ones(M,N)\n",
    "z3 = ones(M,N)\n",
    "v1 = ones(M,N)\n",
    "v2 = ones(M,N)\n",
    "v3 = ones(M,N)\n",
    "for l in 1:10\n",
    "    z = [z1;z2]\n",
    "    v = [v1;v2]\n",
    "    L = pinv(1 .+ rou.*B'*B)*(Vid - S - rou.*B'*D*z-B'*v)\n",
    "    S = 1/(1 + rou).*(Vid - L +rou.*z3 .- v3)\n",
    "    sigma, u, v = svd(L+v1./rou);\n",
    "    Z1 = zeros(M,N);\n",
    "    for i in 1:min(M,N)\n",
    "        sigma_i = sigma[:,i];\n",
    "        s_i = copy(sigma_i);\n",
    "        ui = u[i];\n",
    "        vi = v[:,i];\n",
    "        for j in 1:length(sigma_i)\n",
    "            s_i[j] = max(0,sigma_i[j]-1/rou*lamda);\n",
    "        end\n",
    "        Z1 = Z1 + s_i*ui*vi';\n",
    "    end\n",
    "    z1 = Z1;\n",
    "    z2 = min.(max.(L+v2./rou,0),1)\n",
    "    V = [v1;v2] + rou*(B*L+D*[z1;z2])\n",
    "    v1 = V[1:M,1:N]\n",
    "    v2 = V[M+1:2M,1:N]\n",
    "    v3 = v3 + rou.*(S - z3)\n",
    "    @show norm(Vid-L)\n",
    "end"
   ]
  },
  {
   "cell_type": "markdown",
   "metadata": {},
   "source": [
    "## 3. MRI Compressed Sensing Recovery (40%)\n",
    "\n",
    "The following optimization problem can be formulated for MRI compressed sensing recovery. \n",
    "$$\\begin{align*}\n",
    "    \\min_{\\bm{X}}~\n",
    "    & \\frac{1}{2} \\lVert \\bm{y} - \\mathcal{P}_{\\Omega}\\left( \\mathcal{F} \\left( \\bm{X} \\right) \\right) \\rVert_2^2\n",
    "    + \\alpha \\lVert \\mathcal{H}(\\bm{X}) \\rVert_1\\\\\n",
    "    & + \\beta \\lVert \\mathcal{D}_1(\\bm{X}) \\rVert_1\n",
    "    + \\beta \\lVert \\mathcal{D}_2(\\bm{X}) \\rVert_1\n",
    "    + \\beta \\lVert \\mathcal{D}_3(\\bm{X}) \\rVert_1\n",
    "    + \\beta \\lVert \\mathcal{D}_4(\\bm{X}) \\rVert_1 \\\\\n",
    "    \\text{s.t.}~\n",
    "    & 0 \\le \\bm{X} \\le 255,\n",
    "\\end{align*}$$\n",
    "where $\\mathcal{H}$ stands for the discrete Haar wavelet transform (See the section Haar matrix at [Wikipedia](https://en.wikipedia.org/wiki/Haar_wavelet). $\\mathcal{D}_1(\\bm{X})$, $\\mathcal{D}_2(\\bm{X})$, $\\mathcal{D}_3(\\bm{X})$, and $\\mathcal{D}_4(\\bm{X})$ compute $X_{m,n} - X_{m-1,n}$, $X_{m,n} - X_{m,n-1}$, $X_{m,n} - X_{m-1,n-1}$, $X_{m,n} - X_{m-1,n+1}$, respectively, for all valid $m,n$ to form the corresponding vetors."
   ]
  },
  {
   "cell_type": "markdown",
   "metadata": {},
   "source": [
    "\n",
    "### 3.1 (5%)\n",
    "Find the form of the adjoint operators for $\\mathcal{P}_{\\Omega}(\\mathcal{F}(\\cdot))$, $\\mathcal{H}$, $\\mathcal{D}_1$, $\\mathcal{D}_2$, $\\mathcal{D}_3$, and $\\mathcal{D}_4$.    \n",
    "    "
   ]
  },
  {
   "cell_type": "markdown",
   "metadata": {},
   "source": [
    "### 3.2 (5%)\n",
    "\n",
    "Find an ADMM optimization formulation so that each ADMM step can be solved using proximal operators with closed form solutions. "
   ]
  },
  {
   "cell_type": "markdown",
   "metadata": {},
   "source": [
    "### 3.3 (5%)\n",
    "\n",
    "Find the corresponding ADMM Lagrangian. Note that complex numbers are involved in the formulation due to the Fourier transform. The inner products of Lagrange multipliers and variables are in the form of $\\Re \\left(\\langle \\bm{\\lambda},\\bm{x} \\rangle\\right) $ where $\\Re$ denotes the real part of the number."
   ]
  },
  {
   "cell_type": "markdown",
   "metadata": {},
   "source": [
    "### 3.4 (5%)\n",
    "\n",
    "Find the closed form solutions for the ADMM steps. Write your solutions using the operators and the adjoint operators."
   ]
  },
  {
   "cell_type": "markdown",
   "metadata": {},
   "source": [
    "### 3.5 (20%)\n",
    "\n",
    "Implement an ADMM and use the data in the previous coursework to test the performance. \n",
    "\n",
    "1. Write functions (or use existing functions in Julia) for the involved operators $\\mathcal{P}_{\\Omega}(\\mathcal{F}(\\cdot))$, $\\mathcal{H}$, $\\mathcal{D}_1$, $\\mathcal{D}_2$, $\\mathcal{D}_3$, $\\mathcal{D}_4$, and their adjoint operators. Note that the explicit matrix forms will lead to large storage space and slow computation speed. We expect that you do not use the explicit matrix forms. (5%)\n",
    "\n",
    "2. Write functions to solve the involved proximal operators and least squares problems. As the involved linear operators are implemented using functions (not matrices), the conjugate gradient (CG) method are needed. The description of the CG method can be found from Wikipedia. A Julia implementation of can be found from the package $\\texttt{IterativeSolvers.jl}$. You will also need $\\texttt{LinearMaps.jl}$ as our linear operators are implemented as functions rather than matrices. (10%)\n",
    "\n",
    "3. ADMM implementation and test. (5%)"
   ]
  },
  {
   "cell_type": "markdown",
   "metadata": {},
   "source": [
    "3.1\n",
    "\n",
    "$F^{\\ast }\\left( P^{\\ast }_{\\Omega }\\left( \\cdot \\right)  \\right)  $\n",
    "\n",
    "${}^{H^{\\ast }\\left( \\cdot \\right)  }$ $D^{\\ast }_{1}\\left( \\cdot \\right)  $\n",
    "$D^{\\ast }_{2}\\left( \\cdot \\right)  $\n",
    "$D^{\\ast }_{3}\\left( \\cdot \\right)  $\n",
    "$D^{\\ast }_{4}\\left( \\cdot \\right)  $"
   ]
  },
  {
   "cell_type": "markdown",
   "metadata": {},
   "source": [
    "3.2\n",
    "\n",
    "$min \\frac{1}{2} \\left| \\left| y-P_{\\Omega }\\left( F\\left( X\\right)  \\right)  \\right|  \\right|^{2}_{2}  +\\alpha \\left| \\left| H\\left( Z_{5}\\right)  \\right|  \\right|_{1}  +\\delta \\left( 0\\leqslant Z_{6}\\leqslant 255\\right)  +\\beta \\left| \\left| D_{1}\\left( Z_{1}\\right)  \\right|  \\right|_{1}  +\\beta \\left| \\left| D_{2}\\left( Z_{2}\\right)  \\right|  \\right|_{1}  +\\beta \\left| \\left| D_{3}\\left( Z_{3}\\right)  \\right|  \\right|_{1}  +\\beta \\left| \\left| D_{4}\\left( Z_{4}\\right)  \\right|  \\right|_{1}  $\n",
    "\n",
    "s.t. BX+DZ=0\n",
    "\n",
    "$B=\\left[ \\begin{matrix}I\\\\ I\\\\ I\\\\ I\\\\ I\\\\ I\\end{matrix} \\right]  $\n",
    "\n",
    "$D=\\left[ \\begin{matrix}-I&&&&&\\\\ &-I&&&&\\\\ &&-I&&&\\\\ &&&-I&&\\\\ &&&&-I&\\\\ &&&&&-I\\end{matrix} \\right]  $\n",
    "\n",
    "$Z=\\left[ \\begin{matrix}Z_{1}\\\\ Z_{2}\\\\ Z_{3}\\\\ Z_{4}\\\\ Z_{5}\\\\ Z_{6}\\end{matrix} \\right]  $\n",
    "$\\Lambda =\\left[ \\begin{matrix}\\Lambda_{1} \\\\ \\Lambda_{2} \\\\ \\Lambda_{3} \\\\ \\Lambda_{4} \\\\ \\Lambda_{5} \\\\ \\Lambda_{6} \\end{matrix} \\right]  $\n",
    "\n",
    "\\begin{aligned} & X^{k+1}=\\underset{X}{\\operatorname{argmin}} \\frac{1}{2}\\left\\|y-P_\\Omega (F(X))\\right\\|_2^2+\\frac{\\rho}{2}\\left\\|B X+D Z^k+\\frac{\\Lambda^k}{\\rho}\\right\\|_2^2 \\\\ & Z_5^{k+1}=\\underset{Z_5}{\\operatorname{argmin}} \\alpha\\left\\|H\\left(Z_5\\right)\\right\\|_1+\\frac{\\rho}{2}\\left\\|X^{k+1}-Z_5+\\frac{\\Lambda_5^k}{\\rho}\\right\\|_2^2 \\\\ & Z_6^{k+1}=\\underset{Z_6}{\\operatorname{argmin}} \\delta\\left(0 \\leq Z_6 \\leq 255\\right)+\\frac{\\rho}{2}\\left\\|X^{k+1}-Z_6+\\frac{\\Lambda_6^k}{\\rho}\\right\\|_2^2 \\\\ & Z^{k+1}_{1}=\\underset{Z_1}{\\operatorname{argmin}}\\beta \\left| \\left| D_{1}\\left( X^{k+1}\\right)  \\right|  \\right|_{1}  +\\frac{\\rho }{2} \\left| \\left| X^{k+1}-Z_{1}+\\frac{\\Lambda^{k}_{1} }{\\rho } \\right|  \\right|^{2}_{2}   \\\\ & Z^{k+1}_{2}=\\underset{Z_2}{\\operatorname{argmin}}\\beta \\left| \\left| D_{2}\\left( X^{k+1}\\right)  \\right|  \\right|_{1}  +\\frac{\\rho }{2} \\left| \\left| X^{k+1}-Z_{2}+\\frac{\\Lambda^{k}_{2} }{\\rho } \\right|  \\right|^{2}_{2}   \\\\ & Z^{k+1}_{3}=\\underset{Z_3}{\\operatorname{argmin}}\\beta \\left| \\left| D_{3}\\left( X^{k+1}\\right)  \\right|  \\right|_{1}  +\\frac{\\rho }{2} \\left| \\left| X^{k+1}-Z_{3}+\\frac{\\Lambda^{k}_{3} }{\\rho } \\right|  \\right|^{2}_{2}   \\\\ & Z^{k+1}_{4}=\\underset{Z_4}{\\operatorname{argmin}}\\beta \\left| \\left| D_{4}\\left( X^{k+1}\\right)  \\right|  \\right|_{1}  +\\frac{\\rho }{2} \\left| \\left| X^{k+1}-Z_{4}+\\frac{\\Lambda^{k}_{4} }{\\rho } \\right|  \\right|^{2}_{2}   \\\\ & \\Lambda^{k+1}=\\Lambda^k+\\rho\\left(B X^{k+1}+D Z^{k+1}\\right) \\end{aligned}"
   ]
  },
  {
   "cell_type": "markdown",
   "metadata": {},
   "source": [
    "3.3\n",
    "\n",
    "$L\\left( X,Z,\\Lambda \\right)  =\\frac{1}{2} \\left| \\left| y-P_{\\Omega }\\left( F\\left( X\\right)  \\right)  \\right|  \\right|^{2}_{2}  +\\alpha \\left| \\left| H\\left( Z_{5}\\right)  \\right|  \\right|_{1}  +\\delta \\left( 0\\leqslant Z_{6}\\leqslant 255\\right)  +\\beta \\left| \\left| D_{1}\\left( Z_{1}\\right)  \\right|  \\right|_{1}  +\\beta \\left| \\left| D_{2}\\left( Z_{2}\\right)  \\right|  \\right|_{1}  +\\beta \\left| \\left| D_{3}\\left( Z_{3}\\right)  \\right|  \\right|_{1}  +\\beta \\left| \\left| D_{4}\\left( Z_{4}\\right)  \\right|  \\right|_{1}  +\\Re \\left( \\langle \\Lambda_{1} ,X-Z_{1}\\rangle \\right)  +\\Re \\left( \\langle \\Lambda_{2} ,X-Z_{2}\\rangle \\right)  +\\Re \\left( \\langle \\Lambda_{3} ,X-Z_{3}\\rangle \\right)  +\\Re \\left( \\langle \\Lambda_{4} ,X-Z_{4}\\rangle \\right)  +\\Re \\left( \\langle \\Lambda_{5} ,X-Z_{5}\\rangle \\right)  +\\Re \\left( \\langle \\Lambda_{6} ,X-Z_{6}\\rangle \\right)  +\\frac{\\rho }{2} \\left| \\left| X-Z_{1}\\right|  \\right|^{2}_{2}  +\\frac{\\rho }{2} \\left| \\left| X-Z_{2}\\right|  \\right|^{2}_{2}  +\\frac{\\rho }{2} \\left| \\left| X-Z_{3}\\right|  \\right|^{2}_{2}  +\\frac{\\rho }{2} \\left| \\left| X-Z_{4}\\right|  \\right|^{2}_{2}  +\\frac{\\rho }{2} \\left| \\left| X-Z_{5}\\right|  \\right|^{2}_{2}  +\\frac{\\rho }{2} \\left| \\left| X-Z_{6}\\right|  \\right|^{2}_{2}  $"
   ]
  },
  {
   "cell_type": "markdown",
   "metadata": {},
   "source": [
    "3.4\n",
    "\n",
    "$\\begin{aligned} & -F^*\\left(P_{\\Omega }^*(X)\\right)\\left(y-P_{\\Omega }(F(X))\\right)+\\rho B^{\\top}\\left(B X+D Z^k+\\frac{\\Lambda}{\\rho}^k\\right)=0 \\\\ & \\alpha H^*\\left(H\\left(Z_5\\right)\\right)+(-\\rho)\\left(X^{k+1}+\\frac{\\Lambda_5^k}{\\rho}-Z_5\\right)=0 \\\\ & Z_6^{k+1}=\\min \\left(\\max \\left(X^{k+1}+\\frac{\\Lambda_6^k}{\\rho}, 0\\right), 255\\right) \\\\ & \\beta D_1^*\\left(X^{k+1}\\right)-\\rho\\left(X^{k+1}+\\frac{\\Lambda_1^k}{\\rho}-Z_1\\right)=0 \\end{aligned}$\n",
    "\n",
    "$\\beta D_2^*\\left(X^{k+1}\\right)-\\rho\\left(X^{k+1}+\\frac{\\Lambda_2^k}{\\rho}-Z_2\\right)=0$\n",
    "\n",
    "$\\beta D_3^*\\left(X^{k+1}\\right)-\\rho\\left(X^{k+1}+\\frac{\\Lambda_3^k}{\\rho}-Z_3\\right)=0$\n",
    "\n",
    "$\\beta D_4^*\\left(X^{k+1}\\right)-\\rho\\left(X^{k+1}+\\frac{\\Lambda_4^k}{\\rho}-Z_4\\right)=0$"
   ]
  },
  {
   "cell_type": "code",
   "execution_count": null,
   "metadata": {},
   "outputs": [],
   "source": [
    "######3.5#####PF#####\n",
    "using DataFrames, FFTW, Wavelets, Images, LinearAlgebra, Random, StatsBase,ImageView\n",
    "\n",
    "Random.seed!(0)\n",
    "img_path = \"MRI_of_Human_Brain.jpg\"\n",
    "X = Float64.(load(\"MRI_of_Human_Brain.jpg\"))\n",
    "Omega = sample(collect(1:70144),21043,replace=false);\n",
    "Omega = sort(Omega);\n",
    "\n",
    "function PFOmega(X, Omega)\n",
    "    F0 = fft(X)\n",
    "    F0_vec = vec(F0);\n",
    "    y = F0_vec[Omega];\n",
    "    return y\n",
    "end\n",
    "\n",
    "function PFOmega_adjoint(y, Omega)\n",
    "    Y = Complex.(zeros(70144,));\n",
    "    m = 1\n",
    "    for i in Omega\n",
    "        Y[i] = y[m]\n",
    "        m += 1\n",
    "    end\n",
    "    X = reshape(Y, (274, 256))\n",
    "    y = real.(ifft(X))\n",
    "    return y\n",
    "end"
   ]
  },
  {
   "cell_type": "code",
   "execution_count": null,
   "metadata": {},
   "outputs": [],
   "source": [
    "######3.5#####H#####\n",
    "function WHaar(X)\n",
    "    W = dwt(X, wavelet(WT.haar,WT.Filter));\n",
    "    return W\n",
    "end\n",
    "   \n",
    "function WHaar_adjoint(W)\n",
    "    X = idwt(W, wavelet(WT.haar, WT.Filter))\n",
    "    return X\n",
    "end"
   ]
  },
  {
   "cell_type": "code",
   "execution_count": 28,
   "metadata": {},
   "outputs": [
    {
     "data": {
      "text/plain": [
       "D4_adjoint (generic function with 1 method)"
      ]
     },
     "metadata": {},
     "output_type": "display_data"
    }
   ],
   "source": [
    "######3.5#####D1D2D3D4#####\n",
    "function D1(X)\n",
    "    M, N = size(X)\n",
    "    res = zeros((M-1)*N)\n",
    "    m = 1\n",
    "    for i in 2:M\n",
    "        for j in 1:N\n",
    "            res[m] = X[i, j] - X[i - 1, j]\n",
    "            m += 1\n",
    "        end\n",
    "    end\n",
    "    return res\n",
    "end\n",
    "   \n",
    "function D1_adjoint(res,M,N)\n",
    "    X = zeros(M,N)\n",
    "    m = 1\n",
    "    for i in 2:M\n",
    "        for j in 1:N\n",
    "            X[i, j] = X[i - 1, j] + res[m]\n",
    "            m += 1\n",
    "        end\n",
    "    end\n",
    "    return X\n",
    "end\n",
    "   \n",
    "function D2(X)\n",
    "    M, N = size(X)\n",
    "    res = zeros(M*(N-1))\n",
    "    m = 1\n",
    "    for i in 1:M\n",
    "        for j in 2:N\n",
    "            res[m] = X[i, j] - X[i, j - 1]\n",
    "            m += 1\n",
    "        end\n",
    "    end\n",
    "    return res\n",
    "end\n",
    "   \n",
    "function D2_adjoint(res,M,N)\n",
    "    X = zeros(M,N)\n",
    "    m = 1\n",
    "    for i in 2:M\n",
    "        for j in 1:N\n",
    "            X[i, j] = X[i, j - 1] + res[m]\n",
    "            m += 1\n",
    "        end\n",
    "    end\n",
    "    return X\n",
    "end\n",
    "   \n",
    "function D3(X)\n",
    "    M, N = size(X)\n",
    "    res = zeros((M-1) * (N-1))\n",
    "    m = 1\n",
    "    for i in 2:M\n",
    "        for j in 2:N\n",
    "            res[m] = X[i, j] - X[i - 1, j - 1]\n",
    "            m += 1\n",
    "        end\n",
    "    end\n",
    "    return res\n",
    "end\n",
    "   \n",
    "function D3_adjoint(res,M,N)\n",
    "    X = zeros(M,N)\n",
    "    m = 1\n",
    "    for i in 2:M\n",
    "        for j in 1:N\n",
    "            X[i, j] = X[i - 1, j - 1] + res[m]\n",
    "            m += 1\n",
    "        end\n",
    "    end\n",
    "    return X\n",
    "end\n",
    "   \n",
    "function D4(X)\n",
    "    M, N = size(X)\n",
    "    res = zeros((M-1) * (N-1))\n",
    "    m = 1\n",
    "    for i in 2:M\n",
    "        for j in 1:N\n",
    "            res[m] = X[i, j] - X[i - 1, j + 1]\n",
    "            m += 1\n",
    "        end\n",
    "    end\n",
    "    return res\n",
    "end\n",
    "   \n",
    "function D4_adjoint(res,M,N)\n",
    "    X = zeros(M,N)\n",
    "    m = 1\n",
    "    for i in 2:M\n",
    "        for j in 1:N\n",
    "            X[i, j] = X[i - 1, j + 1] + res[m]\n",
    "            m += 1\n",
    "        end\n",
    "    end\n",
    "    return X\n",
    "end"
   ]
  }
 ],
 "metadata": {
  "kernelspec": {
   "display_name": "Julia 1.8.2",
   "language": "julia",
   "name": "julia-1.8"
  },
  "language_info": {
   "file_extension": ".jl",
   "mimetype": "application/julia",
   "name": "julia",
   "version": "1.8.2"
  },
  "vscode": {
   "interpreter": {
    "hash": "e0de548ffb181fe2a01b2ed5f402e6bb6e6ccf2641efffae0817d36d41e1e10e"
   }
  }
 },
 "nbformat": 4,
 "nbformat_minor": 2
}
